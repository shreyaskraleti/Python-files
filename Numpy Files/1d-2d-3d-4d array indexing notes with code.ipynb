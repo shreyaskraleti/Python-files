{
 "cells": [
  {
   "cell_type": "code",
   "execution_count": 27,
   "id": "e1328cff-49c7-4705-9c41-e6dbc4fbbb33",
   "metadata": {},
   "outputs": [],
   "source": [
    "# # 1d, 2d, 3d, 4d arrays indexing:\n",
    "# # 1d array:\n",
    "# # A 1D array is the simplest type of array, containing elements arranged in a single dimension. \n",
    "# # It behaves like a list of items in Python but is more efficient for numerical computations when using libraries like NumPy.\n",
    "# # Characteristics of a 1D Array:\n",
    "# # Linear Structure: A single row or a single column of elements. No additional dimensions for grouping.\n",
    "# # Shape: Represented as (n,), where n is the number of elements.For example, an array with 5 elements has the shape (5,).\n",
    "# # Indexing: Access elements using a single index, like array[index].\n",
    "# # 2d array: \n",
    "# # A 2D array is a data structure that organizes data in two dimensions: rows and columns. \n",
    "# # It can be visualized as a table or grid, where each cell contains an element, and you can access each element using two indices: \n",
    "# # one for the row and one for the column.\n",
    "# # Characteristics of a 2D Array:\n",
    "# # Rows: Horizontal collections of elements.\n",
    "# # Columns: Vertical collections of elements.\n",
    "# # Shape: Represented as (m, n), where: m = Number of rows, n = Number of columns.\n",
    "# # Indexing: Use two indices to access elements: array[row, column].\n",
    "# # 3d array: \n",
    "# # A 3D array is a data structure that organizes data in three dimensions. It is like a stack of 2D arrays (matrices), \n",
    "# # where each 2D array represents a \"slice\" or a \"layer.\" You can access elements in a 3D array using three indices: \n",
    "# # one for the layer, one for the row, and one for the column.\n",
    "# # Characteristics of a 3D Array:\n",
    "# Layers, Rows, and Columns:\n",
    "# Layers: The outermost dimension, representing a collection of 2D arrays.\n",
    "# Rows: The horizontal elements in each 2D slice.\n",
    "# Columns: The vertical elements in each 2D slice.\n",
    "# Shape: Represented as (x, y, z), where:\n",
    "# x = Number of layers (depth).\n",
    "# y = Number of rows in each layer.\n",
    "# z = Number of columns in each layer.\n",
    "# Indexing: Use three indices to access elements: array[layer, row, column].\n",
    "# 4d array:\n",
    "# A 4D array is a data structure that organizes data in four dimensions. \n",
    "# It can be visualized as a collection of 3D arrays stacked together, where each \"3D block\" contains multiple layers, rows, and columns.\n",
    "# You can think of it as a \"stack of cubes\", and you use four indices to access an element: one for the outermost stack (4th dimension), \n",
    "# one for the layer (3rd dimension), one for the row (2nd dimension), and one for the column (1st dimension).\n",
    "# Visual Representation of a 4D Array:\n",
    "# For the array with shape (2, 3, 2, 4):\n",
    "# 2 blocks (4th dimension). Each block contains 3 layers (3rd dimension).\n",
    "# Each layer has 2 rows (2nd dimension).Each row contains 4 elements (1st dimension).\n"
   ]
  },
  {
   "cell_type": "code",
   "execution_count": 29,
   "id": "6430985a-9655-4011-a98d-1bb1a138fd6f",
   "metadata": {},
   "outputs": [
    {
     "name": "stdout",
     "output_type": "stream",
     "text": [
      "element at 0 index is: 10\n",
      "element at 1 index is: 20\n",
      "element at 2 index is: 30\n",
      "element at -1 index is: 50\n",
      "element at -2 index is: 40\n",
      "slicing from [1:4] is: [20 30 40]\n",
      "slicing for [:2] is: [10 20]\n",
      "slicing for [2:] is: [30 40 50]\n"
     ]
    }
   ],
   "source": [
    "# 1d array indexing:\n",
    "import numpy as np\n",
    "# indexing:\n",
    "array_1d = np.array([10, 20, 30, 40, 50])\n",
    "element_1 = array_1d[0]\n",
    "element_2 = array_1d[1]\n",
    "element_3 = array_1d[2]\n",
    "element_4 = array_1d[-1]\n",
    "element_5 = array_1d[-2]\n",
    "\n",
    "print(\"element at 0 index is:\", element_1)\n",
    "print(\"element at 1 index is:\", element_2)\n",
    "print(\"element at 2 index is:\", element_3)\n",
    "print(\"element at -1 index is:\", element_4)\n",
    "print(\"element at -2 index is:\", element_5)\n",
    "print(\"slicing from [1:4] is:\", slice_1)\n",
    "print(\"slicing for [:2] is:\", slice_2)\n",
    "print(\"slicing for [2:] is:\", slice_3)\n",
    "\n",
    "\n"
   ]
  },
  {
   "cell_type": "code",
   "execution_count": 31,
   "id": "ad2177e6-99a8-4598-a678-568770436c32",
   "metadata": {},
   "outputs": [
    {
     "name": "stdout",
     "output_type": "stream",
     "text": [
      "element 1 is: 20\n",
      "element 2 is: 70\n",
      "element 3 is: 120\n",
      "element 4 is: 30\n",
      "element 5 is: 50\n",
      "element 6 is: 100\n"
     ]
    }
   ],
   "source": [
    "# 2d array indexing:\n",
    "import numpy as np\n",
    "array_2d = np.array([\n",
    "    [10, 20, 30, 40],\n",
    "    [50, 60, 70, 80],\n",
    "    [90, 100, 110, 120]\n",
    "])\n",
    "# Indexing:\n",
    "element_1 = array_2d[0,1]\n",
    "element_2 = array_2d[1,2]\n",
    "element_3 = array_2d[2,3]\n",
    "element_4 = array_2d[0,2]\n",
    "element_5 = array_2d[1,0]\n",
    "element_6 = array_2d[2,1]\n",
    "\n",
    "print(\"element 1 is:\", element_1)\n",
    "print(\"element 2 is:\", element_2)\n",
    "print(\"element 3 is:\", element_3)\n",
    "print(\"element 4 is:\", element_4)\n",
    "print(\"element 5 is:\", element_5)\n",
    "print(\"element 6 is:\", element_6)\n",
    "\n",
    "    "
   ]
  },
  {
   "cell_type": "code",
   "execution_count": 33,
   "id": "162749ac-70ab-4b18-86cd-7d730ca1a795",
   "metadata": {},
   "outputs": [
    {
     "name": "stdout",
     "output_type": "stream",
     "text": [
      "element 1 is: 60\n",
      "element 2 is: 130\n",
      "element 3 is: 260\n",
      "element 4 is: 30\n",
      "element 5 is: 170\n",
      "element 6 is: 220\n"
     ]
    }
   ],
   "source": [
    "# 3d array indexing:\n",
    "import numpy as np\n",
    "array_3d = np.array([\n",
    "    [[10,20,30],[40,50,60],[70,80,90]],\n",
    "    [[100,110,120],[130,140,150],[160,170,180]],\n",
    "    [[190,200,210],[220,230,240],[250,260,270]]\n",
    "])\n",
    "# indexing:\n",
    "element_1 = array_3d[0,1,2]\n",
    "element_2 = array_3d[1,1,0]\n",
    "element_3 = array_3d[2,2,1]\n",
    "element_4 = array_3d[0,0,2]\n",
    "element_5 = array_3d[1,2,1]\n",
    "element_6 = array_3d[2,1,0]\n",
    "\n",
    "print(\"element 1 is:\", element_1)\n",
    "print(\"element 2 is:\", element_2)\n",
    "print(\"element 3 is:\", element_3)\n",
    "print(\"element 4 is:\", element_4)\n",
    "print(\"element 5 is:\", element_5)\n",
    "print(\"element 6 is:\", element_6)\n"
   ]
  },
  {
   "cell_type": "code",
   "execution_count": 35,
   "id": "58aac051-ada4-4818-a050-8caf028ccd82",
   "metadata": {},
   "outputs": [
    {
     "name": "stdout",
     "output_type": "stream",
     "text": [
      "element 1 is: 10\n",
      "element 2 is: 80\n",
      "element 3 is: 200\n",
      "element 4 is: 130\n",
      "element 5 is: 20\n",
      "element 6 is: 170\n"
     ]
    }
   ],
   "source": [
    "# 4d array indexing:\n",
    "import numpy as np\n",
    "array_4d = np.array([\n",
    "    [\n",
    "    [[10,20],[30,40]],\n",
    "    [[50,60],[70,80]],\n",
    "    [[90,100],[110,120]]\n",
    "    ],\n",
    "    [\n",
    "        [[130,140],[150,160]],\n",
    "        [[170,180],[190,200]],\n",
    "        [[210,220],[230,240]]\n",
    "    ]\n",
    "])\n",
    "# indexing:\n",
    "element_1 = array_4d[0,0,0,0]\n",
    "element_2 = array_4d[0,1,1,1]\n",
    "element_3 = array_4d[1,1,1,1]\n",
    "element_4 = array_4d[1,0,0,0]\n",
    "element_5 = array_4d[0,0,0,1]\n",
    "element_6 = array_4d[1,1,0,0]\n",
    "\n",
    "print(\"element 1 is:\", element_1)\n",
    "print(\"element 2 is:\", element_2)\n",
    "print(\"element 3 is:\", element_3)\n",
    "print(\"element 4 is:\", element_4)\n",
    "print(\"element 5 is:\", element_5)\n",
    "print(\"element 6 is:\", element_6)\n",
    "\n",
    "\n",
    "\n",
    "\n",
    "\n"
   ]
  },
  {
   "cell_type": "code",
   "execution_count": null,
   "id": "5d9b50ee-3a16-469a-bcc6-f58f5e550122",
   "metadata": {},
   "outputs": [],
   "source": []
  },
  {
   "cell_type": "code",
   "execution_count": null,
   "id": "92e62b96-53e8-4ad8-9a68-71cb14ce6aa6",
   "metadata": {},
   "outputs": [],
   "source": []
  }
 ],
 "metadata": {
  "kernelspec": {
   "display_name": "Python 3 (ipykernel)",
   "language": "python",
   "name": "python3"
  },
  "language_info": {
   "codemirror_mode": {
    "name": "ipython",
    "version": 3
   },
   "file_extension": ".py",
   "mimetype": "text/x-python",
   "name": "python",
   "nbconvert_exporter": "python",
   "pygments_lexer": "ipython3",
   "version": "3.12.4"
  }
 },
 "nbformat": 4,
 "nbformat_minor": 5
}
