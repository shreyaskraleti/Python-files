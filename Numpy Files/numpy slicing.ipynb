{
 "cells": [
  {
   "cell_type": "code",
   "execution_count": 5,
   "id": "d255e77c-ce02-439e-9bf5-f0d8ac3be444",
   "metadata": {},
   "outputs": [
    {
     "name": "stdout",
     "output_type": "stream",
     "text": [
      "Original Array: [10 20 30 40 50 60 70]\n",
      "Slice 1 : [20 30 40]\n",
      "Slice 2 : [10 20 30 40 50]\n",
      "Slice 3 : [30 40 50 60 70]\n",
      "Slice 4 : [10 30 50]\n",
      "Slice 5 : [30 40 50 60]\n",
      "Slice 6 : [70 60 50 40 30 20 10]\n"
     ]
    }
   ],
   "source": [
    "# 1d array slicing:\n",
    "import numpy as np\n",
    "arr = np.array([10,20,30,40,50,60,70])\n",
    "# 1. Slice specific range of elements (from index 1 to 4, exclusive)\n",
    "slice1 = arr[1:4]\n",
    "# 2. Slice from the beginning to a specific index\n",
    "slice2 = arr[:5]\n",
    "# 3. Slice from a specific index to the end\n",
    "slice3 = arr[2:]\n",
    "# 4. Slice with a step of 2\n",
    "slice4 = arr[0:5:2]\n",
    "# 5. Slice using negative indices\n",
    "slice5 = arr[-5:-1]\n",
    "# 6. Reverse the array using slicing\n",
    "slice6 = arr[::-1]\n",
    "# Print all the slices\n",
    "print(\"Original Array:\", arr)\n",
    "print(\"Slice 1 :\", slice1)\n",
    "print(\"Slice 2 :\", slice2)\n",
    "print(\"Slice 3 :\", slice3)\n",
    "print(\"Slice 4 :\", slice4)\n",
    "print(\"Slice 5 :\", slice5)\n",
    "print(\"Slice 6 :\", slice6)"
   ]
  },
  {
   "cell_type": "code",
   "execution_count": 7,
   "id": "80d8312a-d15a-4db6-b963-3f66739a6c53",
   "metadata": {},
   "outputs": [
    {
     "name": "stdout",
     "output_type": "stream",
     "text": [
      "Original Array: [[ 1  2  3  4]\n",
      " [ 5  6  7  8]\n",
      " [ 9 10 11 12]\n",
      " [13 14 15 16]]\n",
      "Slice 1: [[ 7  8]\n",
      " [11 12]]\n",
      "Slice 2: [[ 2  3]\n",
      " [ 6  7]\n",
      " [10 11]\n",
      " [14 15]]\n",
      "Slice 3: [[ 5  6  7  8]\n",
      " [ 9 10 11 12]]\n",
      "Slice 4: [[ 1  3]\n",
      " [ 9 11]]\n",
      "Slice 5: [[16 15 14 13]\n",
      " [12 11 10  9]\n",
      " [ 8  7  6  5]\n",
      " [ 4  3  2  1]]\n",
      "Slice 6: [ 9 10 11 12]\n",
      "Slice 7: [ 4  8 12 16]\n"
     ]
    }
   ],
   "source": [
    "# 2d array slicing:\n",
    "import numpy as np\n",
    "arr = np.array([\n",
    "    [1,2,3,4],\n",
    "    [5,6,7,8],\n",
    "    [9,10,11,12],\n",
    "    [13,14,15,16]\n",
    "])\n",
    "# 1. Slice a submatrix (rows 1 to 2 and columns 2 to 3)\n",
    "slice1 = arr[1:3, 2:4]\n",
    "# 2. Slice all rows and specific columns (columns 1 to 3)\n",
    "slice2 = arr[:, 1:3]\n",
    "# 3. Slice specific rows and all columns (rows 1 to 2)\n",
    "slice3 = arr[1:3, :]\n",
    "# 4. Slice with a step (every 2nd row and every 2nd column)\n",
    "slice4 = arr[::2, ::2]\n",
    "# 5. Reverse the order of rows and columns\n",
    "slice5 = arr[::-1, ::-1]\n",
    "# 6. Extract a single row (row 2)\n",
    "slice6 = arr[2, :]\n",
    "# 7. Extract a single column (column 3)\n",
    "slice7 = arr[:, 3]\n",
    "# Print all slices\n",
    "print(\"Original Array:\", arr)\n",
    "print(\"Slice 1:\", slice1)\n",
    "print(\"Slice 2:\", slice2)\n",
    "print(\"Slice 3:\", slice3)\n",
    "print(\"Slice 4:\", slice4)\n",
    "print(\"Slice 5:\", slice5)\n",
    "print(\"Slice 6:\", slice6)\n",
    "print(\"Slice 7:\", slice7)"
   ]
  },
  {
   "cell_type": "code",
   "execution_count": null,
   "id": "f2eaedf3-a3d1-4097-9584-73a3a77082ff",
   "metadata": {},
   "outputs": [],
   "source": []
  }
 ],
 "metadata": {
  "kernelspec": {
   "display_name": "Python 3 (ipykernel)",
   "language": "python",
   "name": "python3"
  },
  "language_info": {
   "codemirror_mode": {
    "name": "ipython",
    "version": 3
   },
   "file_extension": ".py",
   "mimetype": "text/x-python",
   "name": "python",
   "nbconvert_exporter": "python",
   "pygments_lexer": "ipython3",
   "version": "3.12.4"
  }
 },
 "nbformat": 4,
 "nbformat_minor": 5
}
